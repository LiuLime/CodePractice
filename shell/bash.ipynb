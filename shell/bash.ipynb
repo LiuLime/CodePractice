{
 "cells": [
  {
   "cell_type": "markdown",
   "metadata": {},
   "source": [
    "# 基本的字符意义"
   ]
  },
  {
   "cell_type": "code",
   "execution_count": null,
   "metadata": {
    "vscode": {
     "languageId": "shellscript"
    }
   },
   "outputs": [],
   "source": [
    "# vim 创建文件和运行文件\n",
    "vim filename.sh"
   ]
  },
  {
   "cell_type": "markdown",
   "metadata": {},
   "source": [
    "以下是vim编辑的文件内容\n",
    "!# /bin/bash #指定解释器\n",
    "echo \"Hello world !\""
   ]
  },
  {
   "cell_type": "markdown",
   "metadata": {},
   "source": [
    "$$: 进程id\n",
    "$!: 上一条命令执行状态，0为正常，1为异常\n"
   ]
  },
  {
   "cell_type": "code",
   "execution_count": null,
   "metadata": {
    "vscode": {
     "languageId": "shellscript"
    }
   },
   "outputs": [],
   "source": [
    "your_name=\"runoob\"\n",
    "# 使用双引号拼接\n",
    "greeting=\"hello, \"$your_name\" !\"\n",
    "greeting_1=\"hello, ${your_name} !\"\n",
    "echo $greeting  $greeting_1\n",
    "\n",
    "# 使用单引号拼接\n",
    "greeting_2='hello, '$your_name' !'\n",
    "greeting_3='hello, ${your_name} !'\n",
    "echo $greeting_2  $greeting_3"
   ]
  },
  {
   "cell_type": "markdown",
   "metadata": {},
   "source": [
    "hello, runoob ! hello, runoob !\n",
    "hello, runoob ! hello, ${your_name} !"
   ]
  },
  {
   "cell_type": "markdown",
   "metadata": {},
   "source": [
    "#、## 表示从左边开始删除。一个 # 表示从左边删除到第一个指定的字符；两个 # 表示从左边删除到最后一个指定的字符。\n",
    "\n",
    "%、%% 表示从右边开始删除。一个 % 表示从右边删除到第一个指定的字符；两个 % 表示从左边删除到最后一个指定的字符。\n",
    "\n",
    "删除包括了指定的字符本身。"
   ]
  },
  {
   "cell_type": "code",
   "execution_count": null,
   "metadata": {
    "vscode": {
     "languageId": "shellscript"
    }
   },
   "outputs": [],
   "source": [
    "var=http://www.aaa.com/123.htm\n",
    "echo ${var#*/}\n",
    "# /www.aaa.com/123.htm\n",
    "echo ${var#*//}\n",
    "# www.aaa.com/123.htm\n",
    "echo ${var##*/}\n",
    "# 123.htm"
   ]
  }
 ],
 "metadata": {
  "kernelspec": {
   "display_name": "pythonLearningRecord",
   "language": "python",
   "name": "python3"
  },
  "language_info": {
   "codemirror_mode": {
    "name": "ipython",
    "version": 3
   },
   "file_extension": ".py",
   "mimetype": "text/x-python",
   "name": "python",
   "nbconvert_exporter": "python",
   "pygments_lexer": "ipython3",
   "version": "3.12.4"
  }
 },
 "nbformat": 4,
 "nbformat_minor": 2
}
