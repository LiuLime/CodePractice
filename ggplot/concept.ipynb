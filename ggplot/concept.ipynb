{
 "cells": [
  {
   "cell_type": "markdown",
   "source": [
    "# ggplot2语法理念"
   ],
   "metadata": {
    "collapsed": false
   },
   "id": "fe48f96e792e6d1a"
  },
  {
   "cell_type": "markdown",
   "source": [
    "## 5个组成部分\n",
    "- layer：geom stat\n",
    "- Scale：映射值到几何学，包括color shape size\n",
    "- coord：坐标系\n",
    "- facet：格子化\n",
    "- theme：字体大小，背景颜色等"
   ],
   "metadata": {
    "collapsed": false
   },
   "id": "629b784a7fcb69c4"
  },
  {
   "cell_type": "markdown",
   "source": [
    "# common modifications"
   ],
   "metadata": {
    "collapsed": false
   },
   "id": "24aab85f088d640f"
  },
  {
   "cell_type": "markdown",
   "source": [
    "## 修改坐标轴"
   ],
   "metadata": {
    "collapsed": false
   },
   "id": "b35a585a2ca8af65"
  },
  {
   "cell_type": "markdown",
   "source": [
    "geom_point()+\n",
    "x_lab(\"X axis\")+\n",
    "y_lab(\"Y axis\")+\n",
    "x_lim(0,10)+\n",
    "y_lim(0,10)"
   ],
   "metadata": {
    "collapsed": false
   },
   "id": "756fc618904d6be2"
  },
  {
   "cell_type": "markdown",
   "source": [
    "改变坐标轴限制会将超出范围的值设置为 NA 。您可以使用 na.rm = TRUE 来抑制相关的警告，但请注意。如果您的绘图计算汇总统计量（例如样本均值），这种转换将在计算汇总统计量之前发生，在某些情况下可能会导致不理想的结果。"
   ],
   "metadata": {
    "collapsed": false
   },
   "id": "510f328b975acafa"
  }
 ],
 "metadata": {
  "kernelspec": {
   "display_name": "Python 3",
   "language": "python",
   "name": "python3"
  },
  "language_info": {
   "codemirror_mode": {
    "name": "ipython",
    "version": 2
   },
   "file_extension": ".py",
   "mimetype": "text/x-python",
   "name": "python",
   "nbconvert_exporter": "python",
   "pygments_lexer": "ipython2",
   "version": "2.7.6"
  }
 },
 "nbformat": 4,
 "nbformat_minor": 5
}
